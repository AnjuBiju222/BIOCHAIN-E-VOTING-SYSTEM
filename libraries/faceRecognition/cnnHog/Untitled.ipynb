{
 "cells": [
  {
   "cell_type": "code",
   "execution_count": 1,
   "id": "c56b27a0-20bd-4f5a-baa2-31e9055f5c3a",
   "metadata": {},
   "outputs": [],
   "source": [
    "import face_recognition\n",
    "import os\n",
    "import cv2\n",
    "import numpy as np"
   ]
  },
  {
   "cell_type": "code",
   "execution_count": 2,
   "id": "f076192f-9d13-4749-902b-340ca3472d5c",
   "metadata": {},
   "outputs": [],
   "source": [
    "#!pip install face_recognition"
   ]
  },
  {
   "cell_type": "code",
   "execution_count": 3,
   "id": "57ce30eb-f365-4a2a-8a9c-51a71c7323df",
   "metadata": {},
   "outputs": [],
   "source": [
    "#!pip install opecv-python"
   ]
  },
  {
   "cell_type": "code",
   "execution_count": 4,
   "id": "c0e4aab9-8c1f-4e94-a26f-31e61a962b82",
   "metadata": {},
   "outputs": [
    {
     "name": "stdout",
     "output_type": "stream",
     "text": [
      "Loading known faces...\n"
     ]
    }
   ],
   "source": [
    "KNOWN_FACES_DIR = 'dataset'\n",
    "\n",
    "TOLERANCE = 0.6\n",
    "FRAME_THICKNESS = 3\n",
    "FONT_THICKNESS = 2\n",
    "MODEL = 'hog'\n",
    "\n",
    "print('Loading known faces...')\n",
    "known_faces = []\n",
    "known_names = []\n",
    "\n",
    "for filename in os.listdir(KNOWN_FACES_DIR):\n",
    "\n",
    "        #for filename in os.listdir(f'{KNOWN_FACES_DIR}/{name}'):\n",
    "\n",
    "        image = face_recognition.load_image_file(f'{KNOWN_FACES_DIR}/{filename}')\n",
    "        face_location = face_recognition.face_locations(image,model=MODEL)\n",
    "        encoding = face_recognition.face_encodings(image,face_location)[0]\n",
    "\n",
    "        known_faces.append(encoding)\n",
    "        name=filename.split(\".\")[0]\n",
    "        known_names.append(name)"
   ]
  },
  {
   "cell_type": "code",
   "execution_count": 5,
   "id": "3d1aeaf7",
   "metadata": {},
   "outputs": [],
   "source": [
    "\n",
    "\n",
    "face_locations = []\n",
    "face_encodings = []\n",
    "face_names = []\n",
    "process_this_frame = True\n",
    "video_capture = cv2.VideoCapture(0)\n",
    "while True:\n",
    "    ret, frame = video_capture.read()\n",
    "\n",
    "    \n",
    "    #small_frame = cv2.resize(frame, (0, 0), fx=0.25, fy=0.25)\n",
    "\n",
    "    #rgb_small_frame = small_frame[:, :, ::-1]\n",
    "        \n",
    "    face_locations = face_recognition.face_locations(frame,model=MODEL)\n",
    "    face_encodings = face_recognition.face_encodings(frame, face_locations)\n",
    "\n",
    "    face_names = []\n",
    "    for face_encoding in face_encodings:\n",
    "        matches = face_recognition.compare_faces(known_faces, face_encoding,TOLERANCE)\n",
    "        name = \"Unknown\"\n",
    "        face_distances = face_recognition.face_distance(known_faces, face_encoding)\n",
    "        best_match_index = np.argmin(face_distances)\n",
    "        if matches[best_match_index]:\n",
    "            name = known_names[best_match_index]\n",
    "\n",
    "        face_names.append(name)\n",
    "\n",
    "\n",
    "\n",
    "    for (top, right, bottom, left), name in zip(face_locations, face_names):\n",
    "\n",
    "        cv2.rectangle(frame, (left, top), (right, bottom), (0, 0, 255), 2)\n",
    "\n",
    "        cv2.rectangle(frame, (left, bottom - 35), (right, bottom), (0, 0, 255), cv2.FILLED)\n",
    "        font = cv2.FONT_HERSHEY_DUPLEX\n",
    "        cv2.putText(frame, name, (left + 6, bottom - 6), font, 1.0, (255, 255, 255), 1)\n",
    "\n",
    "    cv2.imshow('Video', frame)\n",
    "    if cv2.waitKey(1) & 0xFF == ord('q'):\n",
    "        break\n",
    "\n",
    "video_capture.release()\n",
    "cv2.destroyAllWindows()"
   ]
  },
  {
   "cell_type": "code",
   "execution_count": null,
   "id": "bc021e09",
   "metadata": {},
   "outputs": [],
   "source": []
  }
 ],
 "metadata": {
  "kernelspec": {
   "display_name": "Python 3 (ipykernel)",
   "language": "python",
   "name": "python3"
  },
  "language_info": {
   "codemirror_mode": {
    "name": "ipython",
    "version": 3
   },
   "file_extension": ".py",
   "mimetype": "text/x-python",
   "name": "python",
   "nbconvert_exporter": "python",
   "pygments_lexer": "ipython3",
   "version": "3.11.7"
  }
 },
 "nbformat": 4,
 "nbformat_minor": 5
}
